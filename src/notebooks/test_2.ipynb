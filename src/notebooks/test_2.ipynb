{
 "cells": [
  {
   "cell_type": "code",
   "execution_count": 1,
   "metadata": {},
   "outputs": [],
   "source": [
    "import pandas as pd \n",
    "import numpy as np \n"
   ]
  },
  {
   "cell_type": "code",
   "execution_count": 2,
   "metadata": {},
   "outputs": [
    {
     "data": {
      "text/plain": [
       "<pandas.io.excel._base.ExcelFile at 0x1f58f01e430>"
      ]
     },
     "execution_count": 2,
     "metadata": {},
     "output_type": "execute_result"
    }
   ],
   "source": [
    "full_data = pd.ExcelFile(r\"C:\\Users\\solat\\Downloads\\online+retail+ii\\online_retail_II.xlsx\")\n",
    "full_data\n"
   ]
  },
  {
   "cell_type": "code",
   "execution_count": 3,
   "metadata": {},
   "outputs": [],
   "source": [
    "sheets = full_data.sheet_names"
   ]
  },
  {
   "cell_type": "code",
   "execution_count": 4,
   "metadata": {},
   "outputs": [
    {
     "data": {
      "text/plain": [
       "2"
      ]
     },
     "execution_count": 4,
     "metadata": {},
     "output_type": "execute_result"
    }
   ],
   "source": [
    "total_sheets = len(sheets)\n",
    "total_sheets\n"
   ]
  },
  {
   "cell_type": "code",
   "execution_count": 5,
   "metadata": {},
   "outputs": [
    {
     "data": {
      "text/plain": [
       "525461"
      ]
     },
     "execution_count": 5,
     "metadata": {},
     "output_type": "execute_result"
    }
   ],
   "source": [
    "sheet_1_data = full_data.parse(0)\n",
    "len(sheet_1_data)"
   ]
  },
  {
   "cell_type": "code",
   "execution_count": 6,
   "metadata": {},
   "outputs": [
    {
     "data": {
      "text/html": [
       "<div>\n",
       "<style scoped>\n",
       "    .dataframe tbody tr th:only-of-type {\n",
       "        vertical-align: middle;\n",
       "    }\n",
       "\n",
       "    .dataframe tbody tr th {\n",
       "        vertical-align: top;\n",
       "    }\n",
       "\n",
       "    .dataframe thead th {\n",
       "        text-align: right;\n",
       "    }\n",
       "</style>\n",
       "<table border=\"1\" class=\"dataframe\">\n",
       "  <thead>\n",
       "    <tr style=\"text-align: right;\">\n",
       "      <th></th>\n",
       "      <th>Invoice</th>\n",
       "      <th>StockCode</th>\n",
       "      <th>Description</th>\n",
       "      <th>Quantity</th>\n",
       "      <th>InvoiceDate</th>\n",
       "      <th>Price</th>\n",
       "      <th>Customer ID</th>\n",
       "      <th>Country</th>\n",
       "    </tr>\n",
       "  </thead>\n",
       "  <tbody>\n",
       "    <tr>\n",
       "      <th>0</th>\n",
       "      <td>489434</td>\n",
       "      <td>85048</td>\n",
       "      <td>15CM CHRISTMAS GLASS BALL 20 LIGHTS</td>\n",
       "      <td>12</td>\n",
       "      <td>2009-12-01 07:45:00</td>\n",
       "      <td>6.95</td>\n",
       "      <td>13085.0</td>\n",
       "      <td>United Kingdom</td>\n",
       "    </tr>\n",
       "    <tr>\n",
       "      <th>1</th>\n",
       "      <td>489434</td>\n",
       "      <td>79323P</td>\n",
       "      <td>PINK CHERRY LIGHTS</td>\n",
       "      <td>12</td>\n",
       "      <td>2009-12-01 07:45:00</td>\n",
       "      <td>6.75</td>\n",
       "      <td>13085.0</td>\n",
       "      <td>United Kingdom</td>\n",
       "    </tr>\n",
       "    <tr>\n",
       "      <th>2</th>\n",
       "      <td>489434</td>\n",
       "      <td>79323W</td>\n",
       "      <td>WHITE CHERRY LIGHTS</td>\n",
       "      <td>12</td>\n",
       "      <td>2009-12-01 07:45:00</td>\n",
       "      <td>6.75</td>\n",
       "      <td>13085.0</td>\n",
       "      <td>United Kingdom</td>\n",
       "    </tr>\n",
       "    <tr>\n",
       "      <th>3</th>\n",
       "      <td>489434</td>\n",
       "      <td>22041</td>\n",
       "      <td>RECORD FRAME 7\" SINGLE SIZE</td>\n",
       "      <td>48</td>\n",
       "      <td>2009-12-01 07:45:00</td>\n",
       "      <td>2.10</td>\n",
       "      <td>13085.0</td>\n",
       "      <td>United Kingdom</td>\n",
       "    </tr>\n",
       "    <tr>\n",
       "      <th>4</th>\n",
       "      <td>489434</td>\n",
       "      <td>21232</td>\n",
       "      <td>STRAWBERRY CERAMIC TRINKET BOX</td>\n",
       "      <td>24</td>\n",
       "      <td>2009-12-01 07:45:00</td>\n",
       "      <td>1.25</td>\n",
       "      <td>13085.0</td>\n",
       "      <td>United Kingdom</td>\n",
       "    </tr>\n",
       "  </tbody>\n",
       "</table>\n",
       "</div>"
      ],
      "text/plain": [
       "  Invoice StockCode                          Description  Quantity  \\\n",
       "0  489434     85048  15CM CHRISTMAS GLASS BALL 20 LIGHTS        12   \n",
       "1  489434    79323P                   PINK CHERRY LIGHTS        12   \n",
       "2  489434    79323W                  WHITE CHERRY LIGHTS        12   \n",
       "3  489434     22041         RECORD FRAME 7\" SINGLE SIZE         48   \n",
       "4  489434     21232       STRAWBERRY CERAMIC TRINKET BOX        24   \n",
       "\n",
       "          InvoiceDate  Price  Customer ID         Country  \n",
       "0 2009-12-01 07:45:00   6.95      13085.0  United Kingdom  \n",
       "1 2009-12-01 07:45:00   6.75      13085.0  United Kingdom  \n",
       "2 2009-12-01 07:45:00   6.75      13085.0  United Kingdom  \n",
       "3 2009-12-01 07:45:00   2.10      13085.0  United Kingdom  \n",
       "4 2009-12-01 07:45:00   1.25      13085.0  United Kingdom  "
      ]
     },
     "execution_count": 6,
     "metadata": {},
     "output_type": "execute_result"
    }
   ],
   "source": [
    "sheet_1_data.head()"
   ]
  },
  {
   "cell_type": "code",
   "execution_count": 7,
   "metadata": {},
   "outputs": [
    {
     "data": {
      "text/plain": [
       "10509"
      ]
     },
     "execution_count": 7,
     "metadata": {},
     "output_type": "execute_result"
    }
   ],
   "source": [
    "two_percent_data = sheet_1_data.sample(frac=0.02)\n",
    "len(two_percent_data)"
   ]
  },
  {
   "cell_type": "code",
   "execution_count": 8,
   "metadata": {},
   "outputs": [
    {
     "data": {
      "text/plain": [
       "Invoice           0\n",
       "StockCode         0\n",
       "Description      56\n",
       "Quantity          0\n",
       "InvoiceDate       0\n",
       "Price             0\n",
       "Customer ID    2126\n",
       "Country           0\n",
       "dtype: int64"
      ]
     },
     "execution_count": 8,
     "metadata": {},
     "output_type": "execute_result"
    }
   ],
   "source": [
    "two_percent_data.isna().sum()"
   ]
  },
  {
   "cell_type": "code",
   "execution_count": 14,
   "metadata": {},
   "outputs": [],
   "source": [
    "# two_percent_data.to_csv(\"two_percent_data_file\",index=False)"
   ]
  },
  {
   "cell_type": "code",
   "execution_count": 33,
   "metadata": {},
   "outputs": [
    {
     "data": {
      "text/plain": [
       "(10509, 8)"
      ]
     },
     "execution_count": 33,
     "metadata": {},
     "output_type": "execute_result"
    }
   ],
   "source": [
    "data = pd.read_csv(r\"D:\\Faisal\\Projects\\car__123\\dataset\\two_percent_data_file\")\n",
    "data.shape"
   ]
  },
  {
   "cell_type": "code",
   "execution_count": 34,
   "metadata": {},
   "outputs": [
    {
     "data": {
      "text/plain": [
       "(10509, 8)"
      ]
     },
     "execution_count": 34,
     "metadata": {},
     "output_type": "execute_result"
    }
   ],
   "source": [
    "df_two_per = data.copy()\n",
    "df_two_per.shape"
   ]
  },
  {
   "cell_type": "code",
   "execution_count": 35,
   "metadata": {},
   "outputs": [
    {
     "data": {
      "text/plain": [
       "Invoice           0\n",
       "StockCode         0\n",
       "Description      57\n",
       "Quantity          0\n",
       "InvoiceDate       0\n",
       "Price             0\n",
       "Customer ID    2194\n",
       "Country           0\n",
       "dtype: int64"
      ]
     },
     "execution_count": 35,
     "metadata": {},
     "output_type": "execute_result"
    }
   ],
   "source": [
    "df_two_per.isna().sum()"
   ]
  },
  {
   "cell_type": "code",
   "execution_count": 36,
   "metadata": {},
   "outputs": [],
   "source": [
    "pd.set_option('display.max_rows', 20)\n",
    "pd.set_option('display.max_columns', 500)"
   ]
  },
  {
   "cell_type": "code",
   "execution_count": 37,
   "metadata": {},
   "outputs": [
    {
     "data": {
      "text/html": [
       "<div>\n",
       "<style scoped>\n",
       "    .dataframe tbody tr th:only-of-type {\n",
       "        vertical-align: middle;\n",
       "    }\n",
       "\n",
       "    .dataframe tbody tr th {\n",
       "        vertical-align: top;\n",
       "    }\n",
       "\n",
       "    .dataframe thead th {\n",
       "        text-align: right;\n",
       "    }\n",
       "</style>\n",
       "<table border=\"1\" class=\"dataframe\">\n",
       "  <thead>\n",
       "    <tr style=\"text-align: right;\">\n",
       "      <th></th>\n",
       "      <th>Invoice</th>\n",
       "      <th>StockCode</th>\n",
       "      <th>Description</th>\n",
       "      <th>Quantity</th>\n",
       "      <th>InvoiceDate</th>\n",
       "      <th>Price</th>\n",
       "      <th>Customer ID</th>\n",
       "      <th>Country</th>\n",
       "    </tr>\n",
       "  </thead>\n",
       "  <tbody>\n",
       "    <tr>\n",
       "      <th>0</th>\n",
       "      <td>537769</td>\n",
       "      <td>72802C</td>\n",
       "      <td>VANILLA SCENT CANDLE JEWELLED BOX</td>\n",
       "      <td>1</td>\n",
       "      <td>2010-12-08 12:17:00</td>\n",
       "      <td>4.25</td>\n",
       "      <td>15021.0</td>\n",
       "      <td>United Kingdom</td>\n",
       "    </tr>\n",
       "    <tr>\n",
       "      <th>1</th>\n",
       "      <td>502230</td>\n",
       "      <td>22481</td>\n",
       "      <td>BLACK TEA TOWEL CLASSIC DESIGN</td>\n",
       "      <td>4</td>\n",
       "      <td>2010-03-23 12:13:00</td>\n",
       "      <td>1.25</td>\n",
       "      <td>14596.0</td>\n",
       "      <td>United Kingdom</td>\n",
       "    </tr>\n",
       "    <tr>\n",
       "      <th>2</th>\n",
       "      <td>537421</td>\n",
       "      <td>22867</td>\n",
       "      <td>HAND WARMER BIRD DESIGN</td>\n",
       "      <td>2</td>\n",
       "      <td>2010-12-06 15:25:00</td>\n",
       "      <td>2.10</td>\n",
       "      <td>17218.0</td>\n",
       "      <td>United Kingdom</td>\n",
       "    </tr>\n",
       "    <tr>\n",
       "      <th>3</th>\n",
       "      <td>498757</td>\n",
       "      <td>47505</td>\n",
       "      <td>MINATURE COLOURED GARDENING SET</td>\n",
       "      <td>1</td>\n",
       "      <td>2010-02-22 16:49:00</td>\n",
       "      <td>4.95</td>\n",
       "      <td>14030.0</td>\n",
       "      <td>United Kingdom</td>\n",
       "    </tr>\n",
       "    <tr>\n",
       "      <th>4</th>\n",
       "      <td>532350</td>\n",
       "      <td>21827</td>\n",
       "      <td>EIGHT PIECE CREEPY CRAWLIE SET</td>\n",
       "      <td>1</td>\n",
       "      <td>2010-11-11 16:27:00</td>\n",
       "      <td>1.25</td>\n",
       "      <td>15998.0</td>\n",
       "      <td>United Kingdom</td>\n",
       "    </tr>\n",
       "    <tr>\n",
       "      <th>5</th>\n",
       "      <td>512289</td>\n",
       "      <td>21932</td>\n",
       "      <td>SCANDINAVIAN PAISLEY PICNIC BAG</td>\n",
       "      <td>1</td>\n",
       "      <td>2010-06-14 14:49:00</td>\n",
       "      <td>5.91</td>\n",
       "      <td>NaN</td>\n",
       "      <td>United Kingdom</td>\n",
       "    </tr>\n",
       "    <tr>\n",
       "      <th>6</th>\n",
       "      <td>532478</td>\n",
       "      <td>22151</td>\n",
       "      <td>PLACE SETTING WHITE HEART</td>\n",
       "      <td>48</td>\n",
       "      <td>2010-11-12 11:43:00</td>\n",
       "      <td>0.42</td>\n",
       "      <td>15681.0</td>\n",
       "      <td>United Kingdom</td>\n",
       "    </tr>\n",
       "    <tr>\n",
       "      <th>7</th>\n",
       "      <td>536876</td>\n",
       "      <td>21481</td>\n",
       "      <td>FAWN BLUE HOT WATER BOTTLE</td>\n",
       "      <td>1</td>\n",
       "      <td>2010-12-03 11:36:00</td>\n",
       "      <td>5.91</td>\n",
       "      <td>NaN</td>\n",
       "      <td>United Kingdom</td>\n",
       "    </tr>\n",
       "    <tr>\n",
       "      <th>8</th>\n",
       "      <td>519611</td>\n",
       "      <td>21181</td>\n",
       "      <td>PLEASE ONE PERSON METAL SIGN</td>\n",
       "      <td>20</td>\n",
       "      <td>2010-08-18 17:30:00</td>\n",
       "      <td>2.10</td>\n",
       "      <td>16984.0</td>\n",
       "      <td>United Kingdom</td>\n",
       "    </tr>\n",
       "    <tr>\n",
       "      <th>9</th>\n",
       "      <td>491714</td>\n",
       "      <td>84993A</td>\n",
       "      <td>75 GREEN PETIT FOUR CASES</td>\n",
       "      <td>2</td>\n",
       "      <td>2009-12-13 15:38:00</td>\n",
       "      <td>0.42</td>\n",
       "      <td>16409.0</td>\n",
       "      <td>United Kingdom</td>\n",
       "    </tr>\n",
       "  </tbody>\n",
       "</table>\n",
       "</div>"
      ],
      "text/plain": [
       "  Invoice StockCode                        Description  Quantity  \\\n",
       "0  537769    72802C  VANILLA SCENT CANDLE JEWELLED BOX         1   \n",
       "1  502230     22481     BLACK TEA TOWEL CLASSIC DESIGN         4   \n",
       "2  537421     22867            HAND WARMER BIRD DESIGN         2   \n",
       "3  498757     47505    MINATURE COLOURED GARDENING SET         1   \n",
       "4  532350     21827     EIGHT PIECE CREEPY CRAWLIE SET         1   \n",
       "5  512289     21932    SCANDINAVIAN PAISLEY PICNIC BAG         1   \n",
       "6  532478     22151          PLACE SETTING WHITE HEART        48   \n",
       "7  536876     21481         FAWN BLUE HOT WATER BOTTLE         1   \n",
       "8  519611     21181       PLEASE ONE PERSON METAL SIGN        20   \n",
       "9  491714    84993A          75 GREEN PETIT FOUR CASES         2   \n",
       "\n",
       "           InvoiceDate  Price  Customer ID         Country  \n",
       "0  2010-12-08 12:17:00   4.25      15021.0  United Kingdom  \n",
       "1  2010-03-23 12:13:00   1.25      14596.0  United Kingdom  \n",
       "2  2010-12-06 15:25:00   2.10      17218.0  United Kingdom  \n",
       "3  2010-02-22 16:49:00   4.95      14030.0  United Kingdom  \n",
       "4  2010-11-11 16:27:00   1.25      15998.0  United Kingdom  \n",
       "5  2010-06-14 14:49:00   5.91          NaN  United Kingdom  \n",
       "6  2010-11-12 11:43:00   0.42      15681.0  United Kingdom  \n",
       "7  2010-12-03 11:36:00   5.91          NaN  United Kingdom  \n",
       "8  2010-08-18 17:30:00   2.10      16984.0  United Kingdom  \n",
       "9  2009-12-13 15:38:00   0.42      16409.0  United Kingdom  "
      ]
     },
     "execution_count": 37,
     "metadata": {},
     "output_type": "execute_result"
    }
   ],
   "source": [
    "df_two_per.head(10)"
   ]
  },
  {
   "cell_type": "code",
   "execution_count": 38,
   "metadata": {},
   "outputs": [
    {
     "data": {
      "text/plain": [
       "Index(['Invoice', 'StockCode', 'Description', 'Quantity', 'InvoiceDate',\n",
       "       'Price', 'Customer ID', 'Country'],\n",
       "      dtype='object')"
      ]
     },
     "execution_count": 38,
     "metadata": {},
     "output_type": "execute_result"
    }
   ],
   "source": [
    "df_two_per.columns"
   ]
  },
  {
   "cell_type": "code",
   "execution_count": 39,
   "metadata": {},
   "outputs": [
    {
     "data": {
      "text/html": [
       "<div>\n",
       "<style scoped>\n",
       "    .dataframe tbody tr th:only-of-type {\n",
       "        vertical-align: middle;\n",
       "    }\n",
       "\n",
       "    .dataframe tbody tr th {\n",
       "        vertical-align: top;\n",
       "    }\n",
       "\n",
       "    .dataframe thead th {\n",
       "        text-align: right;\n",
       "    }\n",
       "</style>\n",
       "<table border=\"1\" class=\"dataframe\">\n",
       "  <thead>\n",
       "    <tr style=\"text-align: right;\">\n",
       "      <th></th>\n",
       "      <th>Invoice</th>\n",
       "      <th>StockCode</th>\n",
       "      <th>Description</th>\n",
       "      <th>Quantity</th>\n",
       "      <th>InvoiceDate</th>\n",
       "      <th>Price</th>\n",
       "      <th>Customer ID</th>\n",
       "      <th>Country</th>\n",
       "    </tr>\n",
       "  </thead>\n",
       "  <tbody>\n",
       "    <tr>\n",
       "      <th>0</th>\n",
       "      <td>537769</td>\n",
       "      <td>72802C</td>\n",
       "      <td>VANILLA SCENT CANDLE JEWELLED BOX</td>\n",
       "      <td>1</td>\n",
       "      <td>2010-12-08 12:17:00</td>\n",
       "      <td>4.25</td>\n",
       "      <td>15021.0</td>\n",
       "      <td>United Kingdom</td>\n",
       "    </tr>\n",
       "    <tr>\n",
       "      <th>1</th>\n",
       "      <td>502230</td>\n",
       "      <td>22481</td>\n",
       "      <td>BLACK TEA TOWEL CLASSIC DESIGN</td>\n",
       "      <td>4</td>\n",
       "      <td>2010-03-23 12:13:00</td>\n",
       "      <td>1.25</td>\n",
       "      <td>14596.0</td>\n",
       "      <td>United Kingdom</td>\n",
       "    </tr>\n",
       "    <tr>\n",
       "      <th>2</th>\n",
       "      <td>537421</td>\n",
       "      <td>22867</td>\n",
       "      <td>HAND WARMER BIRD DESIGN</td>\n",
       "      <td>2</td>\n",
       "      <td>2010-12-06 15:25:00</td>\n",
       "      <td>2.10</td>\n",
       "      <td>17218.0</td>\n",
       "      <td>United Kingdom</td>\n",
       "    </tr>\n",
       "    <tr>\n",
       "      <th>3</th>\n",
       "      <td>498757</td>\n",
       "      <td>47505</td>\n",
       "      <td>MINATURE COLOURED GARDENING SET</td>\n",
       "      <td>1</td>\n",
       "      <td>2010-02-22 16:49:00</td>\n",
       "      <td>4.95</td>\n",
       "      <td>14030.0</td>\n",
       "      <td>United Kingdom</td>\n",
       "    </tr>\n",
       "    <tr>\n",
       "      <th>4</th>\n",
       "      <td>532350</td>\n",
       "      <td>21827</td>\n",
       "      <td>EIGHT PIECE CREEPY CRAWLIE SET</td>\n",
       "      <td>1</td>\n",
       "      <td>2010-11-11 16:27:00</td>\n",
       "      <td>1.25</td>\n",
       "      <td>15998.0</td>\n",
       "      <td>United Kingdom</td>\n",
       "    </tr>\n",
       "  </tbody>\n",
       "</table>\n",
       "</div>"
      ],
      "text/plain": [
       "  Invoice StockCode                        Description  Quantity  \\\n",
       "0  537769    72802C  VANILLA SCENT CANDLE JEWELLED BOX         1   \n",
       "1  502230     22481     BLACK TEA TOWEL CLASSIC DESIGN         4   \n",
       "2  537421     22867            HAND WARMER BIRD DESIGN         2   \n",
       "3  498757     47505    MINATURE COLOURED GARDENING SET         1   \n",
       "4  532350     21827     EIGHT PIECE CREEPY CRAWLIE SET         1   \n",
       "\n",
       "           InvoiceDate  Price  Customer ID         Country  \n",
       "0  2010-12-08 12:17:00   4.25      15021.0  United Kingdom  \n",
       "1  2010-03-23 12:13:00   1.25      14596.0  United Kingdom  \n",
       "2  2010-12-06 15:25:00   2.10      17218.0  United Kingdom  \n",
       "3  2010-02-22 16:49:00   4.95      14030.0  United Kingdom  \n",
       "4  2010-11-11 16:27:00   1.25      15998.0  United Kingdom  "
      ]
     },
     "execution_count": 39,
     "metadata": {},
     "output_type": "execute_result"
    }
   ],
   "source": [
    "df_two_per.head()"
   ]
  },
  {
   "cell_type": "code",
   "execution_count": 40,
   "metadata": {},
   "outputs": [
    {
     "data": {
      "text/html": [
       "<div>\n",
       "<style scoped>\n",
       "    .dataframe tbody tr th:only-of-type {\n",
       "        vertical-align: middle;\n",
       "    }\n",
       "\n",
       "    .dataframe tbody tr th {\n",
       "        vertical-align: top;\n",
       "    }\n",
       "\n",
       "    .dataframe thead th {\n",
       "        text-align: right;\n",
       "    }\n",
       "</style>\n",
       "<table border=\"1\" class=\"dataframe\">\n",
       "  <thead>\n",
       "    <tr style=\"text-align: right;\">\n",
       "      <th></th>\n",
       "      <th>Invoice</th>\n",
       "      <th>StockCode</th>\n",
       "      <th>Description</th>\n",
       "      <th>InvoiceDate</th>\n",
       "      <th>Country</th>\n",
       "    </tr>\n",
       "  </thead>\n",
       "  <tbody>\n",
       "    <tr>\n",
       "      <th>0</th>\n",
       "      <td>537769</td>\n",
       "      <td>72802C</td>\n",
       "      <td>VANILLA SCENT CANDLE JEWELLED BOX</td>\n",
       "      <td>2010-12-08 12:17:00</td>\n",
       "      <td>United Kingdom</td>\n",
       "    </tr>\n",
       "    <tr>\n",
       "      <th>1</th>\n",
       "      <td>502230</td>\n",
       "      <td>22481</td>\n",
       "      <td>BLACK TEA TOWEL CLASSIC DESIGN</td>\n",
       "      <td>2010-03-23 12:13:00</td>\n",
       "      <td>United Kingdom</td>\n",
       "    </tr>\n",
       "    <tr>\n",
       "      <th>2</th>\n",
       "      <td>537421</td>\n",
       "      <td>22867</td>\n",
       "      <td>HAND WARMER BIRD DESIGN</td>\n",
       "      <td>2010-12-06 15:25:00</td>\n",
       "      <td>United Kingdom</td>\n",
       "    </tr>\n",
       "    <tr>\n",
       "      <th>3</th>\n",
       "      <td>498757</td>\n",
       "      <td>47505</td>\n",
       "      <td>MINATURE COLOURED GARDENING SET</td>\n",
       "      <td>2010-02-22 16:49:00</td>\n",
       "      <td>United Kingdom</td>\n",
       "    </tr>\n",
       "    <tr>\n",
       "      <th>4</th>\n",
       "      <td>532350</td>\n",
       "      <td>21827</td>\n",
       "      <td>EIGHT PIECE CREEPY CRAWLIE SET</td>\n",
       "      <td>2010-11-11 16:27:00</td>\n",
       "      <td>United Kingdom</td>\n",
       "    </tr>\n",
       "    <tr>\n",
       "      <th>...</th>\n",
       "      <td>...</td>\n",
       "      <td>...</td>\n",
       "      <td>...</td>\n",
       "      <td>...</td>\n",
       "      <td>...</td>\n",
       "    </tr>\n",
       "    <tr>\n",
       "      <th>10504</th>\n",
       "      <td>519392</td>\n",
       "      <td>22380</td>\n",
       "      <td>TOY TIDY SPACEBOY</td>\n",
       "      <td>2010-08-16 14:49:00</td>\n",
       "      <td>United Kingdom</td>\n",
       "    </tr>\n",
       "    <tr>\n",
       "      <th>10505</th>\n",
       "      <td>523422</td>\n",
       "      <td>22367</td>\n",
       "      <td>CHILDRENS APRON SPACEBOY DESIGN</td>\n",
       "      <td>2010-09-22 10:10:00</td>\n",
       "      <td>United Kingdom</td>\n",
       "    </tr>\n",
       "    <tr>\n",
       "      <th>10506</th>\n",
       "      <td>499038</td>\n",
       "      <td>85232B</td>\n",
       "      <td>SET/3 RUSSIAN DOLL STACKING TINS</td>\n",
       "      <td>2010-02-24 13:15:00</td>\n",
       "      <td>United Kingdom</td>\n",
       "    </tr>\n",
       "    <tr>\n",
       "      <th>10507</th>\n",
       "      <td>493183</td>\n",
       "      <td>84997D</td>\n",
       "      <td>PINK 3 PIECE MINI DOTS CUTLERY SET</td>\n",
       "      <td>2009-12-22 12:03:00</td>\n",
       "      <td>Austria</td>\n",
       "    </tr>\n",
       "    <tr>\n",
       "      <th>10508</th>\n",
       "      <td>492942</td>\n",
       "      <td>82494L</td>\n",
       "      <td>WOODEN FRAME ANTIQUE WHITE</td>\n",
       "      <td>2009-12-21 12:38:00</td>\n",
       "      <td>United Kingdom</td>\n",
       "    </tr>\n",
       "  </tbody>\n",
       "</table>\n",
       "<p>10509 rows × 5 columns</p>\n",
       "</div>"
      ],
      "text/plain": [
       "      Invoice StockCode                         Description  \\\n",
       "0      537769    72802C   VANILLA SCENT CANDLE JEWELLED BOX   \n",
       "1      502230     22481      BLACK TEA TOWEL CLASSIC DESIGN   \n",
       "2      537421     22867             HAND WARMER BIRD DESIGN   \n",
       "3      498757     47505     MINATURE COLOURED GARDENING SET   \n",
       "4      532350     21827      EIGHT PIECE CREEPY CRAWLIE SET   \n",
       "...       ...       ...                                 ...   \n",
       "10504  519392     22380                 TOY TIDY SPACEBOY     \n",
       "10505  523422     22367     CHILDRENS APRON SPACEBOY DESIGN   \n",
       "10506  499038    85232B    SET/3 RUSSIAN DOLL STACKING TINS   \n",
       "10507  493183    84997D  PINK 3 PIECE MINI DOTS CUTLERY SET   \n",
       "10508  492942    82494L         WOODEN FRAME ANTIQUE WHITE    \n",
       "\n",
       "               InvoiceDate         Country  \n",
       "0      2010-12-08 12:17:00  United Kingdom  \n",
       "1      2010-03-23 12:13:00  United Kingdom  \n",
       "2      2010-12-06 15:25:00  United Kingdom  \n",
       "3      2010-02-22 16:49:00  United Kingdom  \n",
       "4      2010-11-11 16:27:00  United Kingdom  \n",
       "...                    ...             ...  \n",
       "10504  2010-08-16 14:49:00  United Kingdom  \n",
       "10505  2010-09-22 10:10:00  United Kingdom  \n",
       "10506  2010-02-24 13:15:00  United Kingdom  \n",
       "10507  2009-12-22 12:03:00         Austria  \n",
       "10508  2009-12-21 12:38:00  United Kingdom  \n",
       "\n",
       "[10509 rows x 5 columns]"
      ]
     },
     "execution_count": 40,
     "metadata": {},
     "output_type": "execute_result"
    }
   ],
   "source": [
    "cat_cols_df = df_two_per.select_dtypes(include = \"object\")\n",
    "cat_cols_df"
   ]
  },
  {
   "cell_type": "code",
   "execution_count": 41,
   "metadata": {},
   "outputs": [
    {
     "data": {
      "text/html": [
       "<div>\n",
       "<style scoped>\n",
       "    .dataframe tbody tr th:only-of-type {\n",
       "        vertical-align: middle;\n",
       "    }\n",
       "\n",
       "    .dataframe tbody tr th {\n",
       "        vertical-align: top;\n",
       "    }\n",
       "\n",
       "    .dataframe thead th {\n",
       "        text-align: right;\n",
       "    }\n",
       "</style>\n",
       "<table border=\"1\" class=\"dataframe\">\n",
       "  <thead>\n",
       "    <tr style=\"text-align: right;\">\n",
       "      <th></th>\n",
       "      <th>Quantity</th>\n",
       "      <th>Price</th>\n",
       "      <th>Customer ID</th>\n",
       "    </tr>\n",
       "  </thead>\n",
       "  <tbody>\n",
       "    <tr>\n",
       "      <th>0</th>\n",
       "      <td>1</td>\n",
       "      <td>4.25</td>\n",
       "      <td>15021.0</td>\n",
       "    </tr>\n",
       "    <tr>\n",
       "      <th>1</th>\n",
       "      <td>4</td>\n",
       "      <td>1.25</td>\n",
       "      <td>14596.0</td>\n",
       "    </tr>\n",
       "    <tr>\n",
       "      <th>2</th>\n",
       "      <td>2</td>\n",
       "      <td>2.10</td>\n",
       "      <td>17218.0</td>\n",
       "    </tr>\n",
       "    <tr>\n",
       "      <th>3</th>\n",
       "      <td>1</td>\n",
       "      <td>4.95</td>\n",
       "      <td>14030.0</td>\n",
       "    </tr>\n",
       "    <tr>\n",
       "      <th>4</th>\n",
       "      <td>1</td>\n",
       "      <td>1.25</td>\n",
       "      <td>15998.0</td>\n",
       "    </tr>\n",
       "    <tr>\n",
       "      <th>...</th>\n",
       "      <td>...</td>\n",
       "      <td>...</td>\n",
       "      <td>...</td>\n",
       "    </tr>\n",
       "    <tr>\n",
       "      <th>10504</th>\n",
       "      <td>5</td>\n",
       "      <td>2.10</td>\n",
       "      <td>16625.0</td>\n",
       "    </tr>\n",
       "    <tr>\n",
       "      <th>10505</th>\n",
       "      <td>8</td>\n",
       "      <td>1.65</td>\n",
       "      <td>17850.0</td>\n",
       "    </tr>\n",
       "    <tr>\n",
       "      <th>10506</th>\n",
       "      <td>4</td>\n",
       "      <td>4.95</td>\n",
       "      <td>15768.0</td>\n",
       "    </tr>\n",
       "    <tr>\n",
       "      <th>10507</th>\n",
       "      <td>12</td>\n",
       "      <td>3.75</td>\n",
       "      <td>12440.0</td>\n",
       "    </tr>\n",
       "    <tr>\n",
       "      <th>10508</th>\n",
       "      <td>6</td>\n",
       "      <td>2.95</td>\n",
       "      <td>17213.0</td>\n",
       "    </tr>\n",
       "  </tbody>\n",
       "</table>\n",
       "<p>10509 rows × 3 columns</p>\n",
       "</div>"
      ],
      "text/plain": [
       "       Quantity  Price  Customer ID\n",
       "0             1   4.25      15021.0\n",
       "1             4   1.25      14596.0\n",
       "2             2   2.10      17218.0\n",
       "3             1   4.95      14030.0\n",
       "4             1   1.25      15998.0\n",
       "...         ...    ...          ...\n",
       "10504         5   2.10      16625.0\n",
       "10505         8   1.65      17850.0\n",
       "10506         4   4.95      15768.0\n",
       "10507        12   3.75      12440.0\n",
       "10508         6   2.95      17213.0\n",
       "\n",
       "[10509 rows x 3 columns]"
      ]
     },
     "execution_count": 41,
     "metadata": {},
     "output_type": "execute_result"
    }
   ],
   "source": [
    "num_cols_df = df_two_per.select_dtypes(exclude=\"object\")\n",
    "num_cols_df"
   ]
  },
  {
   "cell_type": "code",
   "execution_count": 42,
   "metadata": {},
   "outputs": [
    {
     "data": {
      "text/plain": [
       "Invoice         object\n",
       "StockCode       object\n",
       "Description     object\n",
       "Quantity         int64\n",
       "InvoiceDate     object\n",
       "Price          float64\n",
       "Customer ID    float64\n",
       "Country         object\n",
       "dtype: object"
      ]
     },
     "execution_count": 42,
     "metadata": {},
     "output_type": "execute_result"
    }
   ],
   "source": [
    "df_two_per.dtypes"
   ]
  },
  {
   "cell_type": "code",
   "execution_count": 43,
   "metadata": {},
   "outputs": [
    {
     "data": {
      "text/html": [
       "<div>\n",
       "<style scoped>\n",
       "    .dataframe tbody tr th:only-of-type {\n",
       "        vertical-align: middle;\n",
       "    }\n",
       "\n",
       "    .dataframe tbody tr th {\n",
       "        vertical-align: top;\n",
       "    }\n",
       "\n",
       "    .dataframe thead th {\n",
       "        text-align: right;\n",
       "    }\n",
       "</style>\n",
       "<table border=\"1\" class=\"dataframe\">\n",
       "  <thead>\n",
       "    <tr style=\"text-align: right;\">\n",
       "      <th></th>\n",
       "      <th>Invoice</th>\n",
       "      <th>StockCode</th>\n",
       "      <th>Description</th>\n",
       "      <th>Quantity</th>\n",
       "      <th>InvoiceDate</th>\n",
       "      <th>Price</th>\n",
       "      <th>Customer ID</th>\n",
       "      <th>Country</th>\n",
       "    </tr>\n",
       "  </thead>\n",
       "  <tbody>\n",
       "    <tr>\n",
       "      <th>0</th>\n",
       "      <td>537769</td>\n",
       "      <td>72802C</td>\n",
       "      <td>VANILLA SCENT CANDLE JEWELLED BOX</td>\n",
       "      <td>1</td>\n",
       "      <td>2010-12-08 12:17:00</td>\n",
       "      <td>4.25</td>\n",
       "      <td>15021.0</td>\n",
       "      <td>United Kingdom</td>\n",
       "    </tr>\n",
       "    <tr>\n",
       "      <th>1</th>\n",
       "      <td>502230</td>\n",
       "      <td>22481</td>\n",
       "      <td>BLACK TEA TOWEL CLASSIC DESIGN</td>\n",
       "      <td>4</td>\n",
       "      <td>2010-03-23 12:13:00</td>\n",
       "      <td>1.25</td>\n",
       "      <td>14596.0</td>\n",
       "      <td>United Kingdom</td>\n",
       "    </tr>\n",
       "    <tr>\n",
       "      <th>2</th>\n",
       "      <td>537421</td>\n",
       "      <td>22867</td>\n",
       "      <td>HAND WARMER BIRD DESIGN</td>\n",
       "      <td>2</td>\n",
       "      <td>2010-12-06 15:25:00</td>\n",
       "      <td>2.10</td>\n",
       "      <td>17218.0</td>\n",
       "      <td>United Kingdom</td>\n",
       "    </tr>\n",
       "    <tr>\n",
       "      <th>3</th>\n",
       "      <td>498757</td>\n",
       "      <td>47505</td>\n",
       "      <td>MINATURE COLOURED GARDENING SET</td>\n",
       "      <td>1</td>\n",
       "      <td>2010-02-22 16:49:00</td>\n",
       "      <td>4.95</td>\n",
       "      <td>14030.0</td>\n",
       "      <td>United Kingdom</td>\n",
       "    </tr>\n",
       "    <tr>\n",
       "      <th>4</th>\n",
       "      <td>532350</td>\n",
       "      <td>21827</td>\n",
       "      <td>EIGHT PIECE CREEPY CRAWLIE SET</td>\n",
       "      <td>1</td>\n",
       "      <td>2010-11-11 16:27:00</td>\n",
       "      <td>1.25</td>\n",
       "      <td>15998.0</td>\n",
       "      <td>United Kingdom</td>\n",
       "    </tr>\n",
       "    <tr>\n",
       "      <th>5</th>\n",
       "      <td>512289</td>\n",
       "      <td>21932</td>\n",
       "      <td>SCANDINAVIAN PAISLEY PICNIC BAG</td>\n",
       "      <td>1</td>\n",
       "      <td>2010-06-14 14:49:00</td>\n",
       "      <td>5.91</td>\n",
       "      <td>NaN</td>\n",
       "      <td>United Kingdom</td>\n",
       "    </tr>\n",
       "    <tr>\n",
       "      <th>6</th>\n",
       "      <td>532478</td>\n",
       "      <td>22151</td>\n",
       "      <td>PLACE SETTING WHITE HEART</td>\n",
       "      <td>48</td>\n",
       "      <td>2010-11-12 11:43:00</td>\n",
       "      <td>0.42</td>\n",
       "      <td>15681.0</td>\n",
       "      <td>United Kingdom</td>\n",
       "    </tr>\n",
       "    <tr>\n",
       "      <th>7</th>\n",
       "      <td>536876</td>\n",
       "      <td>21481</td>\n",
       "      <td>FAWN BLUE HOT WATER BOTTLE</td>\n",
       "      <td>1</td>\n",
       "      <td>2010-12-03 11:36:00</td>\n",
       "      <td>5.91</td>\n",
       "      <td>NaN</td>\n",
       "      <td>United Kingdom</td>\n",
       "    </tr>\n",
       "    <tr>\n",
       "      <th>8</th>\n",
       "      <td>519611</td>\n",
       "      <td>21181</td>\n",
       "      <td>PLEASE ONE PERSON METAL SIGN</td>\n",
       "      <td>20</td>\n",
       "      <td>2010-08-18 17:30:00</td>\n",
       "      <td>2.10</td>\n",
       "      <td>16984.0</td>\n",
       "      <td>United Kingdom</td>\n",
       "    </tr>\n",
       "    <tr>\n",
       "      <th>9</th>\n",
       "      <td>491714</td>\n",
       "      <td>84993A</td>\n",
       "      <td>75 GREEN PETIT FOUR CASES</td>\n",
       "      <td>2</td>\n",
       "      <td>2009-12-13 15:38:00</td>\n",
       "      <td>0.42</td>\n",
       "      <td>16409.0</td>\n",
       "      <td>United Kingdom</td>\n",
       "    </tr>\n",
       "  </tbody>\n",
       "</table>\n",
       "</div>"
      ],
      "text/plain": [
       "  Invoice StockCode                        Description  Quantity  \\\n",
       "0  537769    72802C  VANILLA SCENT CANDLE JEWELLED BOX         1   \n",
       "1  502230     22481     BLACK TEA TOWEL CLASSIC DESIGN         4   \n",
       "2  537421     22867            HAND WARMER BIRD DESIGN         2   \n",
       "3  498757     47505    MINATURE COLOURED GARDENING SET         1   \n",
       "4  532350     21827     EIGHT PIECE CREEPY CRAWLIE SET         1   \n",
       "5  512289     21932    SCANDINAVIAN PAISLEY PICNIC BAG         1   \n",
       "6  532478     22151          PLACE SETTING WHITE HEART        48   \n",
       "7  536876     21481         FAWN BLUE HOT WATER BOTTLE         1   \n",
       "8  519611     21181       PLEASE ONE PERSON METAL SIGN        20   \n",
       "9  491714    84993A          75 GREEN PETIT FOUR CASES         2   \n",
       "\n",
       "           InvoiceDate  Price  Customer ID         Country  \n",
       "0  2010-12-08 12:17:00   4.25      15021.0  United Kingdom  \n",
       "1  2010-03-23 12:13:00   1.25      14596.0  United Kingdom  \n",
       "2  2010-12-06 15:25:00   2.10      17218.0  United Kingdom  \n",
       "3  2010-02-22 16:49:00   4.95      14030.0  United Kingdom  \n",
       "4  2010-11-11 16:27:00   1.25      15998.0  United Kingdom  \n",
       "5  2010-06-14 14:49:00   5.91          NaN  United Kingdom  \n",
       "6  2010-11-12 11:43:00   0.42      15681.0  United Kingdom  \n",
       "7  2010-12-03 11:36:00   5.91          NaN  United Kingdom  \n",
       "8  2010-08-18 17:30:00   2.10      16984.0  United Kingdom  \n",
       "9  2009-12-13 15:38:00   0.42      16409.0  United Kingdom  "
      ]
     },
     "execution_count": 43,
     "metadata": {},
     "output_type": "execute_result"
    }
   ],
   "source": [
    "df_two_per.head(10)"
   ]
  },
  {
   "cell_type": "code",
   "execution_count": 44,
   "metadata": {},
   "outputs": [
    {
     "name": "stdout",
     "output_type": "stream",
     "text": [
      "<class 'pandas.core.frame.DataFrame'>\n",
      "RangeIndex: 10509 entries, 0 to 10508\n",
      "Data columns (total 8 columns):\n",
      " #   Column       Non-Null Count  Dtype  \n",
      "---  ------       --------------  -----  \n",
      " 0   Invoice      10509 non-null  object \n",
      " 1   StockCode    10509 non-null  object \n",
      " 2   Description  10452 non-null  object \n",
      " 3   Quantity     10509 non-null  int64  \n",
      " 4   InvoiceDate  10509 non-null  object \n",
      " 5   Price        10509 non-null  float64\n",
      " 6   Customer ID  8315 non-null   float64\n",
      " 7   Country      10509 non-null  object \n",
      "dtypes: float64(2), int64(1), object(5)\n",
      "memory usage: 656.9+ KB\n"
     ]
    }
   ],
   "source": [
    "df_two_per.info()"
   ]
  },
  {
   "cell_type": "code",
   "execution_count": 45,
   "metadata": {},
   "outputs": [
    {
     "name": "stdout",
     "output_type": "stream",
     "text": [
      "Invoice has : 6628 unique values\n",
      "StockCode has : 2531 unique values\n",
      "Description has : 2650 unique values\n",
      "Quantity has : 140 unique values\n",
      "InvoiceDate has : 6470 unique values\n",
      "Price has : 231 unique values\n",
      "Customer ID has : 2482 unique values\n",
      "Country has : 34 unique values\n"
     ]
    }
   ],
   "source": [
    "def get_nunique():\n",
    "    for i in df_two_per.columns:\n",
    "        uni = df_two_per[i].nunique()\n",
    "        print(f\"{i} has : {uni} unique values\")\n",
    "get_nunique()"
   ]
  },
  {
   "cell_type": "code",
   "execution_count": 49,
   "metadata": {},
   "outputs": [
    {
     "name": "stdout",
     "output_type": "stream",
     "text": [
      "Invoice has : 6628 unique values\n",
      "StockCode has : 2531 unique values\n",
      "InvoiceDate has : 6470 unique values\n",
      "Country has : 34 unique values\n"
     ]
    }
   ],
   "source": [
    "for key, val in df_two_per.items():\n",
    "    if pd.api.types.is_string_dtype(val):\n",
    "        print(f\"{key} has : {df_two_per[key].nunique()} unique values\")"
   ]
  },
  {
   "cell_type": "code",
   "execution_count": 50,
   "metadata": {},
   "outputs": [
    {
     "data": {
      "text/plain": [
       "dtype('O')"
      ]
     },
     "execution_count": 50,
     "metadata": {},
     "output_type": "execute_result"
    }
   ],
   "source": [
    "df_two_per[\"Description\"].dtype"
   ]
  },
  {
   "cell_type": "code",
   "execution_count": 51,
   "metadata": {},
   "outputs": [
    {
     "data": {
      "text/plain": [
       "Index(['Invoice', 'StockCode', 'Description', 'InvoiceDate', 'Country'], dtype='object')"
      ]
     },
     "execution_count": 51,
     "metadata": {},
     "output_type": "execute_result"
    }
   ],
   "source": [
    "cat_cols_df.columns"
   ]
  },
  {
   "cell_type": "code",
   "execution_count": 52,
   "metadata": {},
   "outputs": [
    {
     "data": {
      "text/html": [
       "<div>\n",
       "<style scoped>\n",
       "    .dataframe tbody tr th:only-of-type {\n",
       "        vertical-align: middle;\n",
       "    }\n",
       "\n",
       "    .dataframe tbody tr th {\n",
       "        vertical-align: top;\n",
       "    }\n",
       "\n",
       "    .dataframe thead th {\n",
       "        text-align: right;\n",
       "    }\n",
       "</style>\n",
       "<table border=\"1\" class=\"dataframe\">\n",
       "  <thead>\n",
       "    <tr style=\"text-align: right;\">\n",
       "      <th></th>\n",
       "      <th>Invoice</th>\n",
       "      <th>StockCode</th>\n",
       "      <th>Description</th>\n",
       "      <th>Quantity</th>\n",
       "      <th>InvoiceDate</th>\n",
       "      <th>Price</th>\n",
       "      <th>Customer ID</th>\n",
       "      <th>Country</th>\n",
       "    </tr>\n",
       "  </thead>\n",
       "  <tbody>\n",
       "    <tr>\n",
       "      <th>0</th>\n",
       "      <td>537769</td>\n",
       "      <td>72802C</td>\n",
       "      <td>VANILLA SCENT CANDLE JEWELLED BOX</td>\n",
       "      <td>1</td>\n",
       "      <td>2010-12-08 12:17:00</td>\n",
       "      <td>4.25</td>\n",
       "      <td>15021.0</td>\n",
       "      <td>United Kingdom</td>\n",
       "    </tr>\n",
       "    <tr>\n",
       "      <th>1</th>\n",
       "      <td>502230</td>\n",
       "      <td>22481</td>\n",
       "      <td>BLACK TEA TOWEL CLASSIC DESIGN</td>\n",
       "      <td>4</td>\n",
       "      <td>2010-03-23 12:13:00</td>\n",
       "      <td>1.25</td>\n",
       "      <td>14596.0</td>\n",
       "      <td>United Kingdom</td>\n",
       "    </tr>\n",
       "    <tr>\n",
       "      <th>2</th>\n",
       "      <td>537421</td>\n",
       "      <td>22867</td>\n",
       "      <td>HAND WARMER BIRD DESIGN</td>\n",
       "      <td>2</td>\n",
       "      <td>2010-12-06 15:25:00</td>\n",
       "      <td>2.10</td>\n",
       "      <td>17218.0</td>\n",
       "      <td>United Kingdom</td>\n",
       "    </tr>\n",
       "    <tr>\n",
       "      <th>3</th>\n",
       "      <td>498757</td>\n",
       "      <td>47505</td>\n",
       "      <td>MINATURE COLOURED GARDENING SET</td>\n",
       "      <td>1</td>\n",
       "      <td>2010-02-22 16:49:00</td>\n",
       "      <td>4.95</td>\n",
       "      <td>14030.0</td>\n",
       "      <td>United Kingdom</td>\n",
       "    </tr>\n",
       "    <tr>\n",
       "      <th>4</th>\n",
       "      <td>532350</td>\n",
       "      <td>21827</td>\n",
       "      <td>EIGHT PIECE CREEPY CRAWLIE SET</td>\n",
       "      <td>1</td>\n",
       "      <td>2010-11-11 16:27:00</td>\n",
       "      <td>1.25</td>\n",
       "      <td>15998.0</td>\n",
       "      <td>United Kingdom</td>\n",
       "    </tr>\n",
       "    <tr>\n",
       "      <th>5</th>\n",
       "      <td>512289</td>\n",
       "      <td>21932</td>\n",
       "      <td>SCANDINAVIAN PAISLEY PICNIC BAG</td>\n",
       "      <td>1</td>\n",
       "      <td>2010-06-14 14:49:00</td>\n",
       "      <td>5.91</td>\n",
       "      <td>NaN</td>\n",
       "      <td>United Kingdom</td>\n",
       "    </tr>\n",
       "    <tr>\n",
       "      <th>6</th>\n",
       "      <td>532478</td>\n",
       "      <td>22151</td>\n",
       "      <td>PLACE SETTING WHITE HEART</td>\n",
       "      <td>48</td>\n",
       "      <td>2010-11-12 11:43:00</td>\n",
       "      <td>0.42</td>\n",
       "      <td>15681.0</td>\n",
       "      <td>United Kingdom</td>\n",
       "    </tr>\n",
       "    <tr>\n",
       "      <th>7</th>\n",
       "      <td>536876</td>\n",
       "      <td>21481</td>\n",
       "      <td>FAWN BLUE HOT WATER BOTTLE</td>\n",
       "      <td>1</td>\n",
       "      <td>2010-12-03 11:36:00</td>\n",
       "      <td>5.91</td>\n",
       "      <td>NaN</td>\n",
       "      <td>United Kingdom</td>\n",
       "    </tr>\n",
       "    <tr>\n",
       "      <th>8</th>\n",
       "      <td>519611</td>\n",
       "      <td>21181</td>\n",
       "      <td>PLEASE ONE PERSON METAL SIGN</td>\n",
       "      <td>20</td>\n",
       "      <td>2010-08-18 17:30:00</td>\n",
       "      <td>2.10</td>\n",
       "      <td>16984.0</td>\n",
       "      <td>United Kingdom</td>\n",
       "    </tr>\n",
       "    <tr>\n",
       "      <th>9</th>\n",
       "      <td>491714</td>\n",
       "      <td>84993A</td>\n",
       "      <td>75 GREEN PETIT FOUR CASES</td>\n",
       "      <td>2</td>\n",
       "      <td>2009-12-13 15:38:00</td>\n",
       "      <td>0.42</td>\n",
       "      <td>16409.0</td>\n",
       "      <td>United Kingdom</td>\n",
       "    </tr>\n",
       "  </tbody>\n",
       "</table>\n",
       "</div>"
      ],
      "text/plain": [
       "  Invoice StockCode                        Description  Quantity  \\\n",
       "0  537769    72802C  VANILLA SCENT CANDLE JEWELLED BOX         1   \n",
       "1  502230     22481     BLACK TEA TOWEL CLASSIC DESIGN         4   \n",
       "2  537421     22867            HAND WARMER BIRD DESIGN         2   \n",
       "3  498757     47505    MINATURE COLOURED GARDENING SET         1   \n",
       "4  532350     21827     EIGHT PIECE CREEPY CRAWLIE SET         1   \n",
       "5  512289     21932    SCANDINAVIAN PAISLEY PICNIC BAG         1   \n",
       "6  532478     22151          PLACE SETTING WHITE HEART        48   \n",
       "7  536876     21481         FAWN BLUE HOT WATER BOTTLE         1   \n",
       "8  519611     21181       PLEASE ONE PERSON METAL SIGN        20   \n",
       "9  491714    84993A          75 GREEN PETIT FOUR CASES         2   \n",
       "\n",
       "           InvoiceDate  Price  Customer ID         Country  \n",
       "0  2010-12-08 12:17:00   4.25      15021.0  United Kingdom  \n",
       "1  2010-03-23 12:13:00   1.25      14596.0  United Kingdom  \n",
       "2  2010-12-06 15:25:00   2.10      17218.0  United Kingdom  \n",
       "3  2010-02-22 16:49:00   4.95      14030.0  United Kingdom  \n",
       "4  2010-11-11 16:27:00   1.25      15998.0  United Kingdom  \n",
       "5  2010-06-14 14:49:00   5.91          NaN  United Kingdom  \n",
       "6  2010-11-12 11:43:00   0.42      15681.0  United Kingdom  \n",
       "7  2010-12-03 11:36:00   5.91          NaN  United Kingdom  \n",
       "8  2010-08-18 17:30:00   2.10      16984.0  United Kingdom  \n",
       "9  2009-12-13 15:38:00   0.42      16409.0  United Kingdom  "
      ]
     },
     "execution_count": 52,
     "metadata": {},
     "output_type": "execute_result"
    }
   ],
   "source": [
    "df_two_per.head(10)"
   ]
  },
  {
   "cell_type": "code",
   "execution_count": 59,
   "metadata": {},
   "outputs": [],
   "source": [
    "import matplotlib.pyplot as plt \n",
    "import seaborn as sns "
   ]
  },
  {
   "cell_type": "code",
   "execution_count": 61,
   "metadata": {},
   "outputs": [
    {
     "data": {
      "text/plain": [
       "<Axes: ylabel='Country'>"
      ]
     },
     "execution_count": 61,
     "metadata": {},
     "output_type": "execute_result"
    },
    {
     "data": {
      "image/png": "[encoded data removed]",
      "text/plain": [
       "<Figure size 1200x1500 with 1 Axes>"
      ]
     },
     "metadata": {},
     "output_type": "display_data"
    }
   ],
   "source": [
    "plt.figure(figsize=(12,15))\n",
    "df_two_per.groupby(\"Country\")[\"Price\"].sum().plot(kind='barh')"
   ]
  },
  {
   "cell_type": "code",
   "execution_count": 65,
   "metadata": {},
   "outputs": [
    {
     "data": {
      "text/plain": [
       "<Axes: xlabel='Country', ylabel='count'>"
      ]
     },
     "execution_count": 65,
     "metadata": {},
     "output_type": "execute_result"
    },
    {
     "data": {
      "image/png": "[encoded data removed]",
      "text/plain": [
       "<Figure size 1200x1200 with 1 Axes>"
      ]
     },
     "metadata": {},
     "output_type": "display_data"
    }
   ],
   "source": [
    "plt.figure(figsize=(12,12))\n",
    "sns.countplot(data=df_two_per, x=\"Country\")"
   ]
  },
  {
   "cell_type": "code",
   "execution_count": 74,
   "metadata": {},
   "outputs": [
    {
     "data": {
      "text/plain": [
       "array([   1,    1,    2,    3,    3,    3,    3,    3,    4,    4,    5,\n",
       "          5,    5,    5,    6,    6,    8,    9,   11,   15,   15,   15,\n",
       "         16,   16,   18,   21,   21,   24,   25,   57,  104,  157,  195,\n",
       "       9723], dtype=int64)"
      ]
     },
     "execution_count": 74,
     "metadata": {},
     "output_type": "execute_result"
    }
   ],
   "source": [
    "country_count = df_two_per[\"Country\"].value_counts().sort_values(ascending=True).values\n",
    "country_count"
   ]
  },
  {
   "cell_type": "code",
   "execution_count": 75,
   "metadata": {},
   "outputs": [
    {
     "data": {
      "image/png": "[encoded data removed]",
      "text/plain": [
       "<Figure size 1200x1200 with 1 Axes>"
      ]
     },
     "metadata": {},
     "output_type": "display_data"
    }
   ],
   "source": [
    "# plt.figure(figsize = (12,12))\n",
    "fig , ax = plt.subplots(figsize=(12,12))\n",
    "df_two_per[\"Country\"].value_counts().sort_values(ascending=True).plot(kind='barh')\n",
    "\n",
    "patches = ax.patches\n",
    "for i in range(len(patches)):\n",
    "    x = patches[i].get_width() / 2 \n",
    "    y = patches[i].get_y()\n",
    "    ax.annotate(country_count[i],(x,y), ha='center')\n"
   ]
  }
 ],
 "metadata": {
  "kernelspec": {
   "display_name": "Python 3",
   "language": "python",
   "name": "python3"
  },
  "language_info": {
   "codemirror_mode": {
    "name": "ipython",
    "version": 3
   },
   "file_extension": ".py",
   "mimetype": "text/x-python",
   "name": "python",
   "nbconvert_exporter": "python",
   "pygments_lexer": "ipython3",
   "version": "3.9.18"
  }
 },
 "nbformat": 4,
 "nbformat_minor": 2
}
